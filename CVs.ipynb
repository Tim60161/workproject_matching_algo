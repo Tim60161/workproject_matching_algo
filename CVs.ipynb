{
 "cells": [
  {
   "cell_type": "code",
   "execution_count": null,
   "metadata": {
    "id": "lt0UXvSOhiJr"
   },
   "outputs": [],
   "source": [
    "!pip install fastapi"
   ]
  },
  {
   "cell_type": "code",
   "execution_count": 2,
   "metadata": {
    "id": "k54y8EWJfm2d"
   },
   "outputs": [],
   "source": [
    "import pandas as pd\n",
    "import numpy as np\n",
    "from pypdf import PdfReader\n",
    "from Resources import DEGREES_IMPORTANCE\n",
    "from spacy.lang.en import English\n",
    "from pydantic import BaseModel, Field\n",
    "from bson import ObjectId\n",
    "import pandas as pd\n",
    "import json\n",
    "import ast\n",
    "from fastapi import FastAPI\n",
    "from fastapi.encoders import jsonable_encoder"
   ]
  },
  {
   "cell_type": "code",
   "execution_count": 7,
   "metadata": {
    "id": "Ct4mlyIjKqyx"
   },
   "outputs": [],
   "source": [
    "reader = PdfReader(\"resumes/CV-ENGLISH_2.pdf\")\n",
    "number_of_pages = len(reader.pages)\n",
    "page = reader.pages[0]\n",
    "text = page.extract_text()"
   ]
  },
  {
   "cell_type": "code",
   "execution_count": 8,
   "metadata": {
    "colab": {
     "base_uri": "https://localhost:8080/",
     "height": 244
    },
    "id": "EKITQMbeLOls",
    "outputId": "0a7ed9a3-efe6-4663-84b5-7c0dec76904f"
   },
   "outputs": [
    {
     "data": {
      "text/plain": [
       "\"VICTOR BJORSVIK  \\n \\nLisbon, Portugal  | +47 917  83 150 | victorbjorsvik@hotmail.com  \\n \\nQUALIFICATION S                                                                                                                                                                        . \\n• Leadership experience through serving as a Leading Private in the Royal Norwegian Navy and leading teams at Vender AS  \\n• Creative and perceptive – influenced by international travels and studying abroad in Portugal, USA and Hungary  \\n• 6 years of work experience in sales and service, and recent work experience in more quantitative subjects such as \\nprogramming  for 6 months  and basic accounting  for 2 years  \\n• Analytical skills through quantitative university courses ranging from linear algebra and calculus to big data analysis  \\n• Strong communication and teamwork skills acquired through engaging with customers, clients, co -workers and team -mates  \\n \\nEDUCATION   \\n \\nNOVA SCHOOL OF BUSINESS AND ECONOMICS                                                                                    Lisbon , Portugal  \\nMaster of Science in Business Analytics                                                                                                                  2023 - Present  \\n• Concentration:  Business analytics with a particular focus on finance  \\n• Gained p roficiency with a wide array of quantitative tools relevant to data science and analytics  \\n• Electives in several financial subjects such as financial modelling, asset management a nd invest ments  \\n \\nNORWEGIAN SCHOOL  OF ECONOMICS  (NHH)   Bergen, Norway  \\nBachelor of  Science in  Economics and  Business Administration  2019 - 2022 \\n• GPA  4.43/5.0 – Top 8% in my class  of 500 graduating students  \\n• Gained familiarity with a wide range of economic and financial concepts, including  valuation methods in Excel and Python   \\n• Designed and implemented logistic regression models to forecast customer churn probabilities within an insurance company  \\n• Volunteering: PR for the UKEN student festival in Bergen  \\n \\nEXPERIENCE   \\n \\nVENDER AS                                                                                                                                                              Oslo, Norway  \\nFacility management, Compliance and Web Development            2019 - Presen t \\n• Conducted a wide variety of activities ranging from office services, reception service, carpentry, accounting, web \\ndevelopment and more  \\n• Entrusted with  compliance to the new Norwegian law of transparency ( Åpenhetsloven , 2022)  \\n• Developed a webpage from scratch through Flask with HTML, CSS and Javascript  \\n \\nROYAL NORWEGIAN NAVY                                                                                                                            Bergen , Norway  \\nWeapons technician and deckhand  aboard KNM Magnus Lagabote   2018 - 2019 \\n• Devoted special emphasis to punctuality and worked to maintain outstanding attendance record  \\n• Contributed to NATO's Trident Juncture 18 exercise, a historic multinational military operation in Norway, where I played a \\nvital role in testing and enhancing defense capabilities alongside 50,000 participants from 31 nations  \\n• Promoted to Private 1st class for my contributions. The promotion took place within 3 months aboard the ship, the earliest \\npromotion for a private in the vessel ’s history   \\n• Gave training to new personnel and served as mediator between privates and officers  \\n \\nNOVA VISTA                                                                                                                                                        Bergen , Norway  \\nSales and Logist ics        2017 - 2018  \\n• Referred customers to various services and products by evaluating needs and providing recommendations  \\n• Made responsible for logistics in the Bergen area where I operated with safety and skill to avoid accidents and to \\ndeliver goods on time  \\n \\n ADDITIONAL  INFORMATION   \\n• Technical : proficiency in  Python  - including Pandas and SQL APIs for Apache Spark  and Machine learning libraries including  \\nscikit -learn , Tensorflow and Keras , C, R, SQL, HTML, CSS , Tableau and more  \\n• Courses: CS50x (Harvard), MIT 6.00.1 x (Massachusetts Institute of Technology) , Market Concepts  (Bloomberg) , The \\nComplete Financial Analyst Course  (Udemy)   \\n• Interests: cooking,  climbing , hiking , travelling  \""
      ]
     },
     "execution_count": 8,
     "metadata": {},
     "output_type": "execute_result"
    }
   ],
   "source": [
    "text"
   ]
  },
  {
   "cell_type": "code",
   "execution_count": 9,
   "metadata": {
    "id": "RUizl-_tZO-p"
   },
   "outputs": [],
   "source": [
    "dic = {\"raw\": [text]}\n",
    "df2 = pd.DataFrame(dic)"
   ]
  },
  {
   "cell_type": "code",
   "execution_count": 10,
   "metadata": {
    "id": "y2yGQZnLLYrX"
   },
   "outputs": [],
   "source": [
    "class JobInfoExtraction:\n",
    "\n",
    "    def __init__(self, skills_patterns_path, majors_patterns_path, degrees_patterns_path, jobs):\n",
    "        # self.jobs = jobs[['Qualifications']]\n",
    "        self.skills_patterns_path = skills_patterns_path\n",
    "        self.majors_patterns_path = majors_patterns_path\n",
    "        self.degrees_patterns_path = degrees_patterns_path\n",
    "        self.degrees_importance = DEGREES_IMPORTANCE\n",
    "\n",
    "    @staticmethod\n",
    "    def match_majors_by_spacy(self, job):\n",
    "        nlp = English()\n",
    "        # Add the pattern to the matcher\n",
    "        patterns_path = self.majors_patterns_path\n",
    "        ruler = nlp.add_pipe(\"entity_ruler\")\n",
    "        ruler.from_disk(patterns_path)\n",
    "        # Process some text\n",
    "        doc1 = nlp(job)\n",
    "        acceptable_majors = []\n",
    "        for ent in doc1.ents:\n",
    "            labels_parts = ent.label_.split('|')\n",
    "            if labels_parts[0] == 'MAJOR':\n",
    "                if labels_parts[2].replace('-', ' ') not in acceptable_majors:\n",
    "                    acceptable_majors.append(labels_parts[2].replace('-', ' '))\n",
    "                if labels_parts[2].replace('-', ' ') not in acceptable_majors:\n",
    "                    acceptable_majors.append(labels_parts[2].replace('-', ' '))\n",
    "        return acceptable_majors\n",
    "\n",
    "    @staticmethod\n",
    "    def match_degrees_by_spacy(self, job):\n",
    "        nlp = English()\n",
    "        # Add the pattern to the matcher\n",
    "        patterns_path = self.degrees_patterns_path\n",
    "        ruler = nlp.add_pipe(\"entity_ruler\")\n",
    "        ruler.from_disk(patterns_path)\n",
    "        # Process some text\n",
    "        doc1 = nlp(job)\n",
    "        degree_levels = []\n",
    "        for ent in doc1.ents:\n",
    "            labels_parts = ent.label_.split('|')\n",
    "            if labels_parts[0] == 'DEGREE':\n",
    "                print((ent.text, ent.label_))\n",
    "                if labels_parts[1] not in degree_levels:\n",
    "                    degree_levels.append(labels_parts[1])\n",
    "        return degree_levels\n",
    "\n",
    "    @staticmethod\n",
    "    def match_skills_by_spacy(self, job):\n",
    "        nlp = English()\n",
    "        patterns_path = self.skills_patterns_path\n",
    "        ruler = nlp.add_pipe(\"entity_ruler\")\n",
    "        ruler.from_disk(patterns_path)\n",
    "        # Process some text\n",
    "        doc1 = nlp(job)\n",
    "        job_skills = []\n",
    "        for ent in doc1.ents:\n",
    "            labels_parts = ent.label_.split('|')\n",
    "            if labels_parts[0] == 'SKILL':\n",
    "                print((ent.text, ent.label_))\n",
    "                if labels_parts[1].replace('-', ' ') not in job_skills:\n",
    "                    job_skills.append(labels_parts[1].replace('-', ' '))\n",
    "        return job_skills\n",
    "\n",
    "    @staticmethod\n",
    "    def get_minimum_degree(self, degrees):\n",
    "        \"\"\"get the minimum degree that the candidate has\"\"\"\n",
    "        d = {degree: self.degrees_importance[degree] for degree in degrees}\n",
    "        return min(d, key=d.get)\n",
    "\n",
    "    def extract_entities(self, jobs):\n",
    "        # recognize and extract entities\n",
    "        jobs['Minimum degree level'] = \"\"\n",
    "        jobs['Acceptable majors'] = \"\"\n",
    "        jobs['Skills'] = \"\"\n",
    "        for i, row in jobs.iterrows():\n",
    "            job = jobs['raw'][i].replace('. ', ' ')\n",
    "            degrees = self.match_degrees_by_spacy(self, job)\n",
    "            if len(degrees) != 0:\n",
    "                jobs['Minimum degree level'][i] = self.get_minimum_degree(self, degrees)\n",
    "            else:\n",
    "                jobs['Minimum degree level'][i] = \"\"\n",
    "            jobs['Acceptable majors'][i] = self.match_majors_by_spacy(self, job)\n",
    "            jobs['Skills'][i] = self.match_skills_by_spacy(self, job)\n",
    "        return jobs\n"
   ]
  },
  {
   "cell_type": "code",
   "execution_count": 11,
   "metadata": {
    "id": "Q4wy6sU5gNyn"
   },
   "outputs": [],
   "source": [
    "class PyObjectId(ObjectId):\n",
    "    @classmethod\n",
    "    def __get_validators__(cls):\n",
    "        yield cls.validate\n",
    "\n",
    "    @classmethod\n",
    "    def validate(cls, v):\n",
    "        if not ObjectId.is_valid(v):\n",
    "            raise ValueError(\"Invalid objectid\")\n",
    "        return ObjectId(v)\n",
    "\n",
    "    @classmethod\n",
    "    def __get_pydantic_json_schema__(cls, schema, _field):\n",
    "        schema.update(type=\"string\")\n",
    "        return schema\n",
    "\n",
    "class JobExtractedModel(BaseModel):\n",
    "    id: PyObjectId = Field(default_factory=PyObjectId, alias=\"_id\")\n",
    "    minimum_degree_level: str = Field(...)\n",
    "    acceptable_majors: list = Field(...)\n",
    "    skills: list = Field(...)\n",
    "\n",
    "    class Config:\n",
    "        populate_by_name = True\n",
    "        arbitrary_types_allowed = True\n",
    "        json_encoders = {ObjectId: str}\n"
   ]
  },
  {
   "cell_type": "code",
   "execution_count": 12,
   "metadata": {
    "colab": {
     "base_uri": "https://localhost:8080/"
    },
    "id": "vemcLQvUXf47",
    "outputId": "38ad4152-3a09-4057-9e77-b79e32bb17c7"
   },
   "outputs": [
    {
     "name": "stdout",
     "output_type": "stream",
     "text": [
      "('university', 'DEGREE|BS-LEVEL')\n",
      "('Master', 'DEGREE|MS-LEVEL')\n",
      "('Bachelor', 'DEGREE|BS-LEVEL')\n"
     ]
    },
    {
     "name": "stderr",
     "output_type": "stream",
     "text": [
      "C:\\Users\\victo\\AppData\\Local\\Temp\\ipykernel_56756\\4236327512.py:79: FutureWarning: ChainedAssignmentError: behaviour will change in pandas 3.0!\n",
      "You are setting values through chained assignment. Currently this works in certain cases, but when using Copy-on-Write (which will become the default behaviour in pandas 3.0) this will never work to update the original DataFrame or Series, because the intermediate object on which we are setting values will behave as a copy.\n",
      "A typical example is when you are setting values in a column of a DataFrame, like:\n",
      "\n",
      "df[\"col\"][row_indexer] = value\n",
      "\n",
      "Use `df.loc[row_indexer, \"col\"] = values` instead, to perform the assignment in a single step and ensure this keeps updating the original `df`.\n",
      "\n",
      "See the caveats in the documentation: https://pandas.pydata.org/pandas-docs/stable/user_guide/indexing.html#returning-a-view-versus-a-copy\n",
      "\n",
      "  jobs['Minimum degree level'][i] = self.get_minimum_degree(self, degrees)\n",
      "C:\\Users\\victo\\AppData\\Local\\Temp\\ipykernel_56756\\4236327512.py:82: FutureWarning: ChainedAssignmentError: behaviour will change in pandas 3.0!\n",
      "You are setting values through chained assignment. Currently this works in certain cases, but when using Copy-on-Write (which will become the default behaviour in pandas 3.0) this will never work to update the original DataFrame or Series, because the intermediate object on which we are setting values will behave as a copy.\n",
      "A typical example is when you are setting values in a column of a DataFrame, like:\n",
      "\n",
      "df[\"col\"][row_indexer] = value\n",
      "\n",
      "Use `df.loc[row_indexer, \"col\"] = values` instead, to perform the assignment in a single step and ensure this keeps updating the original `df`.\n",
      "\n",
      "See the caveats in the documentation: https://pandas.pydata.org/pandas-docs/stable/user_guide/indexing.html#returning-a-view-versus-a-copy\n",
      "\n",
      "  jobs['Acceptable majors'][i] = self.match_majors_by_spacy(self, job)\n"
     ]
    },
    {
     "name": "stdout",
     "output_type": "stream",
     "text": [
      "('accounting', 'SKILL|accounting')\n",
      "('big data', 'SKILL|big-data')\n",
      "('communication', 'SKILL|communications')\n",
      "('BUSINESS', 'SKILL|business')\n",
      "('Business', 'SKILL|business')\n",
      "('Analytics', 'SKILL|analytics')\n",
      "('Business', 'SKILL|business')\n",
      "('analytics', 'SKILL|analytics')\n",
      "('finance', 'SKILL|finance')\n",
      "('data science', 'SKILL|data-science')\n",
      "('analytics', 'SKILL|analytics')\n",
      "('modelling', 'SKILL|modelling')\n",
      "('Business Administration', 'SKILL|business-administration')\n",
      "('Python', 'SKILL|python')\n",
      "('logistic regression', 'SKILL|logistic-regression')\n",
      "('models', 'SKILL|modelling')\n",
      "('Web Development', 'SKILL|web-development')\n",
      "('accounting', 'SKILL|accounting')\n",
      "('Flask', 'SKILL|flask')\n",
      "('HTML', 'SKILL|html')\n",
      "('CSS', 'SKILL|css')\n",
      "('Javascript', 'SKILL|javascript')\n",
      "('testing', 'SKILL|testing')\n",
      "('training', 'SKILL|training-model')\n",
      "('Python', 'SKILL|python')\n",
      "('Pandas', 'SKILL|pandas')\n",
      "('SQL', 'SKILL|sql')\n",
      "('Apache Spark', 'SKILL|apache-spark')\n",
      "('Machine learning', 'SKILL|machine-learning')\n",
      "('Tensorflow', 'SKILL|tensorflow')\n",
      "('Keras', 'SKILL|keras')\n",
      "('C', 'SKILL|c')\n",
      "('R', 'SKILL|r')\n",
      "('SQL', 'SKILL|sql')\n",
      "('HTML', 'SKILL|html')\n",
      "('CSS', 'SKILL|css')\n",
      "('Tableau', 'SKILL|tableau')\n"
     ]
    },
    {
     "name": "stderr",
     "output_type": "stream",
     "text": [
      "C:\\Users\\victo\\AppData\\Local\\Temp\\ipykernel_56756\\4236327512.py:83: FutureWarning: ChainedAssignmentError: behaviour will change in pandas 3.0!\n",
      "You are setting values through chained assignment. Currently this works in certain cases, but when using Copy-on-Write (which will become the default behaviour in pandas 3.0) this will never work to update the original DataFrame or Series, because the intermediate object on which we are setting values will behave as a copy.\n",
      "A typical example is when you are setting values in a column of a DataFrame, like:\n",
      "\n",
      "df[\"col\"][row_indexer] = value\n",
      "\n",
      "Use `df.loc[row_indexer, \"col\"] = values` instead, to perform the assignment in a single step and ensure this keeps updating the original `df`.\n",
      "\n",
      "See the caveats in the documentation: https://pandas.pydata.org/pandas-docs/stable/user_guide/indexing.html#returning-a-view-versus-a-copy\n",
      "\n",
      "  jobs['Skills'][i] = self.match_skills_by_spacy(self, job)\n"
     ]
    }
   ],
   "source": [
    "def transform_dataframe_to_json(dataframe):\n",
    "\n",
    "    # transforms the dataframe into json\n",
    "    result = dataframe.to_json(orient=\"records\")\n",
    "    parsed = json.loads(result)\n",
    "    json_data = json.dumps(parsed, indent=4)\n",
    "\n",
    "    return json_data\n",
    "\n",
    "\n",
    "def extraction(resume):\n",
    "    degrees_patterns_path = 'Resources/data/degrees.jsonl'\n",
    "    majors_patterns_path = 'Resources/data/majors.jsonl'\n",
    "    skills_patterns_path = 'Resources/data/skills.jsonl'\n",
    "    jobs = resume\n",
    "    job_extraction = JobInfoExtraction(skills_patterns_path, majors_patterns_path, degrees_patterns_path, jobs)\n",
    "    jobs = job_extraction.extract_entities(jobs)\n",
    "    for i, row in jobs.iterrows():\n",
    "        minimum_degree_level = jobs['Minimum degree level'][i]\n",
    "        acceptable_majors = jobs['Acceptable majors'][i]\n",
    "        skills = jobs['Skills'][i]\n",
    "\n",
    "        job_extracted = JobExtractedModel(minimum_degree_level=minimum_degree_level if minimum_degree_level else '',\n",
    "                                          acceptable_majors=acceptable_majors if acceptable_majors else [],\n",
    "                                          skills=skills if skills else [])\n",
    "        job_extracted = jsonable_encoder(job_extracted)\n",
    "        # new_job_extracted = database.get_collection(\"jobsextracted\").insert_one(job_extracted)\n",
    "    jobs_json = transform_dataframe_to_json(jobs)\n",
    "    return jobs_json\n",
    "\n",
    "\n",
    "res = extraction(df2)"
   ]
  },
  {
   "cell_type": "code",
   "execution_count": 13,
   "metadata": {
    "colab": {
     "base_uri": "https://localhost:8080/"
    },
    "id": "YL3M44emcQsk",
    "outputId": "73d963cb-69e7-4cc3-82f2-d92a4f5c6615"
   },
   "outputs": [
    {
     "data": {
      "text/plain": [
       "['accounting',\n",
       " 'big data',\n",
       " 'communications',\n",
       " 'business',\n",
       " 'analytics',\n",
       " 'finance',\n",
       " 'data science',\n",
       " 'modelling',\n",
       " 'business administration',\n",
       " 'python',\n",
       " 'logistic regression',\n",
       " 'web development',\n",
       " 'flask',\n",
       " 'html',\n",
       " 'css',\n",
       " 'javascript',\n",
       " 'testing',\n",
       " 'training model',\n",
       " 'pandas',\n",
       " 'sql',\n",
       " 'apache spark',\n",
       " 'machine learning',\n",
       " 'tensorflow',\n",
       " 'keras',\n",
       " 'c',\n",
       " 'r',\n",
       " 'tableau']"
      ]
     },
     "execution_count": 13,
     "metadata": {},
     "output_type": "execute_result"
    }
   ],
   "source": [
    "df2.iloc[0].Skills"
   ]
  },
  {
   "cell_type": "code",
   "execution_count": null,
   "metadata": {
    "id": "R8mzfdOWg9Zq"
   },
   "outputs": [],
   "source": []
  }
 ],
 "metadata": {
  "colab": {
   "provenance": []
  },
  "kernelspec": {
   "display_name": "workproject",
   "language": "python",
   "name": "workproject"
  },
  "language_info": {
   "codemirror_mode": {
    "name": "ipython",
    "version": 3
   },
   "file_extension": ".py",
   "mimetype": "text/x-python",
   "name": "python",
   "nbconvert_exporter": "python",
   "pygments_lexer": "ipython3",
   "version": "3.11.9"
  }
 },
 "nbformat": 4,
 "nbformat_minor": 4
}
