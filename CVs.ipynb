{
 "cells": [
  {
   "cell_type": "code",
   "execution_count": 1,
   "metadata": {
    "id": "k54y8EWJfm2d"
   },
   "outputs": [
    {
     "name": "stderr",
     "output_type": "stream",
     "text": [
      "C:\\Users\\victo\\anaconda3\\envs\\workproject\\Lib\\site-packages\\pypdf\\_crypt_providers\\_cryptography.py:32: CryptographyDeprecationWarning: ARC4 has been moved to cryptography.hazmat.decrepit.ciphers.algorithms.ARC4 and will be removed from this module in 48.0.0.\n",
      "  from cryptography.hazmat.primitives.ciphers.algorithms import AES, ARC4\n"
     ]
    }
   ],
   "source": [
    "import os\n",
    "import sys\n",
    "import pandas as pd\n",
    "import numpy as np\n",
    "from pypdf import PdfReader\n",
    "from Resources import DEGREES_IMPORTANCE\n",
    "from spacy.lang.en import English\n",
    "from pydantic import BaseModel, Field\n",
    "from bson import ObjectId\n",
    "import pandas as pd\n",
    "import json\n",
    "import ast\n",
    "from fastapi import FastAPI\n",
    "from fastapi.encoders import jsonable_encoder\n",
    "import warnings\n",
    "warnings.filterwarnings(\"ignore\")"
   ]
  },
  {
   "cell_type": "code",
   "execution_count": null,
   "metadata": {
    "id": "Ct4mlyIjKqyx"
   },
   "outputs": [],
   "source": []
  },
  {
   "cell_type": "code",
   "execution_count": 4,
   "metadata": {
    "id": "RUizl-_tZO-p"
   },
   "outputs": [
    {
     "name": "stderr",
     "output_type": "stream",
     "text": [
      "Ignoring wrong pointing object 6 0 (offset 0)\n",
      "Ignoring wrong pointing object 8 0 (offset 0)\n",
      "Ignoring wrong pointing object 10 0 (offset 0)\n",
      "Ignoring wrong pointing object 12 0 (offset 0)\n",
      "Ignoring wrong pointing object 14 0 (offset 0)\n",
      "Ignoring wrong pointing object 16 0 (offset 0)\n",
      "Ignoring wrong pointing object 18 0 (offset 0)\n",
      "Ignoring wrong pointing object 20 0 (offset 0)\n",
      "Ignoring wrong pointing object 23 0 (offset 0)\n",
      "Ignoring wrong pointing object 25 0 (offset 0)\n",
      "Ignoring wrong pointing object 36 0 (offset 0)\n"
     ]
    }
   ],
   "source": [
    "df = get_resumes(\"resumes\")\n",
    "res = extraction(df)\n",
    "df = pd.read_json(res)\n",
    "print(df)"
   ]
  },
  {
   "cell_type": "code",
   "execution_count": 11,
   "metadata": {},
   "outputs": [
    {
     "data": {
      "text/html": [
       "<div>\n",
       "<style scoped>\n",
       "    .dataframe tbody tr th:only-of-type {\n",
       "        vertical-align: middle;\n",
       "    }\n",
       "\n",
       "    .dataframe tbody tr th {\n",
       "        vertical-align: top;\n",
       "    }\n",
       "\n",
       "    .dataframe thead th {\n",
       "        text-align: right;\n",
       "    }\n",
       "</style>\n",
       "<table border=\"1\" class=\"dataframe\">\n",
       "  <thead>\n",
       "    <tr style=\"text-align: right;\">\n",
       "      <th></th>\n",
       "      <th>name</th>\n",
       "      <th>raw</th>\n",
       "      <th>Degrees</th>\n",
       "      <th>Maximum degree level</th>\n",
       "      <th>Acceptable majors</th>\n",
       "      <th>Skills</th>\n",
       "    </tr>\n",
       "  </thead>\n",
       "  <tbody>\n",
       "    <tr>\n",
       "      <th>0</th>\n",
       "      <td>hanna_pedersen</td>\n",
       "      <td>EDUCATION  Nova School of Business an...</td>\n",
       "      <td>[MS-LEVEL, BS-LEVEL]</td>\n",
       "      <td>MS-LEVEL</td>\n",
       "      <td>[data analysis, artificial intelligence, progr...</td>\n",
       "      <td>[business, analytics, business administration,...</td>\n",
       "    </tr>\n",
       "    <tr>\n",
       "      <th>1</th>\n",
       "      <td>irene_abbateli</td>\n",
       "      <td>\\n \\n \\nIRENE ABBATELLI \\nRome, Italy \\n(+39)...</td>\n",
       "      <td>[MS-LEVEL, BS-LEVEL]</td>\n",
       "      <td>MS-LEVEL</td>\n",
       "      <td>[data analysis]</td>\n",
       "      <td>[business, analytics, data analysis, machine l...</td>\n",
       "    </tr>\n",
       "    <tr>\n",
       "      <th>2</th>\n",
       "      <td>victor_bjorsvik</td>\n",
       "      <td>VICTOR BJORSVIK  \\n \\nLisbon, Portugal  | +47 ...</td>\n",
       "      <td>[BS-LEVEL, MS-LEVEL]</td>\n",
       "      <td>MS-LEVEL</td>\n",
       "      <td>[programming, data analysis, data science, web...</td>\n",
       "      <td>[accounting, big data, communications, busines...</td>\n",
       "    </tr>\n",
       "  </tbody>\n",
       "</table>\n",
       "</div>"
      ],
      "text/plain": [
       "              name                                                raw  \\\n",
       "0   hanna_pedersen           EDUCATION  Nova School of Business an...   \n",
       "1   irene_abbateli   \\n \\n \\nIRENE ABBATELLI \\nRome, Italy \\n(+39)...   \n",
       "2  victor_bjorsvik  VICTOR BJORSVIK  \\n \\nLisbon, Portugal  | +47 ...   \n",
       "\n",
       "                Degrees Maximum degree level  \\\n",
       "0  [MS-LEVEL, BS-LEVEL]             MS-LEVEL   \n",
       "1  [MS-LEVEL, BS-LEVEL]             MS-LEVEL   \n",
       "2  [BS-LEVEL, MS-LEVEL]             MS-LEVEL   \n",
       "\n",
       "                                   Acceptable majors  \\\n",
       "0  [data analysis, artificial intelligence, progr...   \n",
       "1                                    [data analysis]   \n",
       "2  [programming, data analysis, data science, web...   \n",
       "\n",
       "                                              Skills  \n",
       "0  [business, analytics, business administration,...  \n",
       "1  [business, analytics, data analysis, machine l...  \n",
       "2  [accounting, big data, communications, busines...  "
      ]
     },
     "execution_count": 11,
     "metadata": {},
     "output_type": "execute_result"
    }
   ],
   "source": []
  },
  {
   "cell_type": "code",
   "execution_count": null,
   "metadata": {},
   "outputs": [],
   "source": []
  }
 ],
 "metadata": {
  "colab": {
   "provenance": []
  },
  "kernelspec": {
   "display_name": "workproject",
   "language": "python",
   "name": "workproject"
  },
  "language_info": {
   "codemirror_mode": {
    "name": "ipython",
    "version": 3
   },
   "file_extension": ".py",
   "mimetype": "text/x-python",
   "name": "python",
   "nbconvert_exporter": "python",
   "pygments_lexer": "ipython3",
   "version": "3.11.9"
  }
 },
 "nbformat": 4,
 "nbformat_minor": 4
}
