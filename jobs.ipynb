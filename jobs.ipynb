{
 "cells": [
  {
   "cell_type": "code",
   "execution_count": 1,
   "metadata": {},
   "outputs": [
    {
     "name": "stderr",
     "output_type": "stream",
     "text": [
      "c:\\Users\\victo\\anaconda3\\envs\\workproject\\Lib\\site-packages\\pypdf\\_crypt_providers\\_cryptography.py:32: CryptographyDeprecationWarning: ARC4 has been moved to cryptography.hazmat.decrepit.ciphers.algorithms.ARC4 and will be removed from this module in 48.0.0.\n",
      "  from cryptography.hazmat.primitives.ciphers.algorithms import AES, ARC4\n",
      "Ignoring wrong pointing object 6 0 (offset 0)\n",
      "Ignoring wrong pointing object 8 0 (offset 0)\n",
      "Ignoring wrong pointing object 10 0 (offset 0)\n",
      "Ignoring wrong pointing object 12 0 (offset 0)\n",
      "Ignoring wrong pointing object 14 0 (offset 0)\n",
      "Ignoring wrong pointing object 16 0 (offset 0)\n",
      "Ignoring wrong pointing object 18 0 (offset 0)\n",
      "Ignoring wrong pointing object 20 0 (offset 0)\n",
      "Ignoring wrong pointing object 23 0 (offset 0)\n",
      "Ignoring wrong pointing object 25 0 (offset 0)\n",
      "Ignoring wrong pointing object 36 0 (offset 0)\n"
     ]
    }
   ],
   "source": [
    "import os\n",
    "from fastapi import FastAPI\n",
    "from fastapi.encoders import jsonable_encoder\n",
    "import pandas as pd\n",
    "import json\n",
    "from services.ResumeInfoExtraction import ResumeInfoExtraction\n",
    "from services.JobInfoExtraction import JobInfoExtraction\n",
    "from source.schemas.resumeextracted import ResumeExtractedModel\n",
    "from source.schemas.jobextracted import JobExtractedModel\n",
    "import ast\n",
    "from pypdf import PdfReader\n",
    "import warnings\n",
    "warnings.filterwarnings(\"ignore\")\n",
    "\n",
    "def get_resumes(directory):\n",
    "    \n",
    "    def extract_pdf(path):\n",
    "        reader = PdfReader(path)\n",
    "        number_of_pages = len(reader.pages)\n",
    "        text = \"\"\n",
    "        for i in range(number_of_pages):\n",
    "            page = reader.pages[i]\n",
    "            text += page.extract_text()\n",
    "        return text\n",
    "    \n",
    "    dic = {}\n",
    "    \n",
    "    # Iterate over all files in the directory\n",
    "    for filename in os.listdir(directory):\n",
    "        file_path = os.path.join(directory, filename)\n",
    "        \n",
    "        if os.path.isfile(file_path) and filename.endswith(\".pdf\"):\n",
    "            name = filename.strip(\".pdf\")\n",
    "            resume_text = extract_pdf(file_path)\n",
    "            dic[name] = [resume_text]\n",
    "    \n",
    "    df = pd.DataFrame(dic).T\n",
    "    df.reset_index(inplace=True)\n",
    "    df.rename(columns={\"index\": \"name\", 0:\"raw\"}, inplace=True)\n",
    "    \n",
    "    return df\n",
    "\n",
    "def transform_dataframe_to_json(dataframe):\n",
    "\n",
    "    # transforms the dataframe into json\n",
    "    result = dataframe.to_json(orient=\"records\")\n",
    "    parsed = json.loads(result)\n",
    "    json_data = json.dumps(parsed, indent=4)\n",
    "\n",
    "    return json_data\n",
    "\n",
    "\n",
    "def extraction(resume):\n",
    "    degrees_patterns_path = 'Resources/data/degrees.jsonl'\n",
    "    majors_patterns_path = 'Resources/data/majors.jsonl'\n",
    "    skills_patterns_path = 'Resources/data/skills.jsonl'\n",
    "    jobs = resume\n",
    "    names = transform_dataframe_to_json(jobs[[\"name\"]])\n",
    "    job_extraction = ResumeInfoExtraction(skills_patterns_path, majors_patterns_path, degrees_patterns_path, jobs, names)\n",
    "    jobs = job_extraction.extract_entities(jobs)\n",
    "    for i, row in jobs.iterrows():\n",
    "        name = row[\"name\"]\n",
    "        degrees = jobs.loc[i, 'Degrees']\n",
    "        maximum_degree_level = jobs.loc[i, 'Maximum degree level']\n",
    "        acceptable_majors = jobs.loc[i, 'Acceptable majors']\n",
    "        skills = jobs.loc[i, 'Skills']\n",
    "        \n",
    "\n",
    "        job_extracted = ResumeExtractedModel(maximum_degree_level=maximum_degree_level if maximum_degree_level else '',\n",
    "                                          acceptable_majors=acceptable_majors if acceptable_majors else [],\n",
    "                                          skills=skills if skills else [],\n",
    "                                          name=name if name else '',\n",
    "                                          degrees=degrees if degrees else [])\n",
    "        job_extracted = jsonable_encoder(job_extracted)\n",
    "    jobs_json = transform_dataframe_to_json(jobs)\n",
    "    \n",
    "    return jobs_json\n",
    "\n",
    "if __name__ == \"__main__\":\n",
    "    df = get_resumes(\"resumes\")\n",
    "    res = extraction(df)\n",
    "    df = pd.read_json(res)\n",
    "\n"
   ]
  },
  {
   "cell_type": "code",
   "execution_count": 2,
   "metadata": {},
   "outputs": [
    {
     "data": {
      "text/html": [
       "<div>\n",
       "<style scoped>\n",
       "    .dataframe tbody tr th:only-of-type {\n",
       "        vertical-align: middle;\n",
       "    }\n",
       "\n",
       "    .dataframe tbody tr th {\n",
       "        vertical-align: top;\n",
       "    }\n",
       "\n",
       "    .dataframe thead th {\n",
       "        text-align: right;\n",
       "    }\n",
       "</style>\n",
       "<table border=\"1\" class=\"dataframe\">\n",
       "  <thead>\n",
       "    <tr style=\"text-align: right;\">\n",
       "      <th></th>\n",
       "      <th>name</th>\n",
       "      <th>raw</th>\n",
       "      <th>Degrees</th>\n",
       "      <th>Maximum degree level</th>\n",
       "      <th>Acceptable majors</th>\n",
       "      <th>Skills</th>\n",
       "    </tr>\n",
       "  </thead>\n",
       "  <tbody>\n",
       "    <tr>\n",
       "      <th>0</th>\n",
       "      <td>hanna_pedersen</td>\n",
       "      <td>EDUCATION  Nova School of Business an...</td>\n",
       "      <td>[MS-LEVEL, BS-LEVEL]</td>\n",
       "      <td>MS-LEVEL</td>\n",
       "      <td>[data analysis, artificial intelligence, progr...</td>\n",
       "      <td>[business, analytics, business administration,...</td>\n",
       "    </tr>\n",
       "    <tr>\n",
       "      <th>1</th>\n",
       "      <td>irene_abbateli</td>\n",
       "      <td>\\n \\n \\nIRENE ABBATELLI \\nRome, Italy \\n(+39)...</td>\n",
       "      <td>[MS-LEVEL, BS-LEVEL]</td>\n",
       "      <td>MS-LEVEL</td>\n",
       "      <td>[data analysis]</td>\n",
       "      <td>[business, analytics, data analysis, machine l...</td>\n",
       "    </tr>\n",
       "    <tr>\n",
       "      <th>2</th>\n",
       "      <td>victor_bjorsvik</td>\n",
       "      <td>VICTOR BJORSVIK  \\n \\nLisbon, Portugal  | +47 ...</td>\n",
       "      <td>[BS-LEVEL, MS-LEVEL]</td>\n",
       "      <td>MS-LEVEL</td>\n",
       "      <td>[programming, data analysis, data science, web...</td>\n",
       "      <td>[accounting, big data, communications, busines...</td>\n",
       "    </tr>\n",
       "  </tbody>\n",
       "</table>\n",
       "</div>"
      ],
      "text/plain": [
       "              name                                                raw  \\\n",
       "0   hanna_pedersen           EDUCATION  Nova School of Business an...   \n",
       "1   irene_abbateli   \\n \\n \\nIRENE ABBATELLI \\nRome, Italy \\n(+39)...   \n",
       "2  victor_bjorsvik  VICTOR BJORSVIK  \\n \\nLisbon, Portugal  | +47 ...   \n",
       "\n",
       "                Degrees Maximum degree level  \\\n",
       "0  [MS-LEVEL, BS-LEVEL]             MS-LEVEL   \n",
       "1  [MS-LEVEL, BS-LEVEL]             MS-LEVEL   \n",
       "2  [BS-LEVEL, MS-LEVEL]             MS-LEVEL   \n",
       "\n",
       "                                   Acceptable majors  \\\n",
       "0  [data analysis, artificial intelligence, progr...   \n",
       "1                                    [data analysis]   \n",
       "2  [programming, data analysis, data science, web...   \n",
       "\n",
       "                                              Skills  \n",
       "0  [business, analytics, business administration,...  \n",
       "1  [business, analytics, data analysis, machine l...  \n",
       "2  [accounting, big data, communications, busines...  "
      ]
     },
     "execution_count": 2,
     "metadata": {},
     "output_type": "execute_result"
    }
   ],
   "source": [
    "df"
   ]
  },
  {
   "cell_type": "code",
   "execution_count": 3,
   "metadata": {},
   "outputs": [
    {
     "name": "stdout",
     "output_type": "stream",
     "text": [
      "description.txt\n"
     ]
    }
   ],
   "source": [
    "%%bash\n",
    "ls job_descriptions/"
   ]
  },
  {
   "cell_type": "code",
   "execution_count": 4,
   "metadata": {},
   "outputs": [
    {
     "data": {
      "text/html": [
       "<div>\n",
       "<style scoped>\n",
       "    .dataframe tbody tr th:only-of-type {\n",
       "        vertical-align: middle;\n",
       "    }\n",
       "\n",
       "    .dataframe tbody tr th {\n",
       "        vertical-align: top;\n",
       "    }\n",
       "\n",
       "    .dataframe thead th {\n",
       "        text-align: right;\n",
       "    }\n",
       "</style>\n",
       "<table border=\"1\" class=\"dataframe\">\n",
       "  <thead>\n",
       "    <tr style=\"text-align: right;\">\n",
       "      <th></th>\n",
       "      <th>raw</th>\n",
       "    </tr>\n",
       "  </thead>\n",
       "  <tbody>\n",
       "    <tr>\n",
       "      <th>0</th>\n",
       "      <td>Data Scientist\\nLisbon\\n\\n\\n\\nApply on employe...</td>\n",
       "    </tr>\n",
       "  </tbody>\n",
       "</table>\n",
       "</div>"
      ],
      "text/plain": [
       "                                                 raw\n",
       "0  Data Scientist\\nLisbon\\n\\n\\n\\nApply on employe..."
      ]
     },
     "execution_count": 4,
     "metadata": {},
     "output_type": "execute_result"
    }
   ],
   "source": [
    "with open('job_descriptions/description.txt', 'r') as file:\n",
    "    job_description = file.read()\n",
    "\n",
    "job_description = [job_description]\n",
    "df2 = pd.DataFrame(job_description, columns=[\"raw\"])\n",
    "df2"
   ]
  },
  {
   "cell_type": "code",
   "execution_count": 5,
   "metadata": {},
   "outputs": [],
   "source": [
    "def extraction(resume):\n",
    "    degrees_patterns_path = 'Resources/data/degrees.jsonl'\n",
    "    majors_patterns_path = 'Resources/data/majors.jsonl'\n",
    "    skills_patterns_path = 'Resources/data/skills.jsonl'\n",
    "    jobs = resume\n",
    "    job_extraction = JobInfoExtraction(skills_patterns_path, majors_patterns_path, degrees_patterns_path, jobs)\n",
    "    jobs = job_extraction.extract_entities(jobs)\n",
    "    for i, row in jobs.iterrows():\n",
    "        minimum_degree_level = jobs['Minimum degree level'][i]\n",
    "        acceptable_majors = jobs['Acceptable majors'][i]\n",
    "        skills = jobs['Skills'][i]\n",
    "\n",
    "        job_extracted = JobExtractedModel(minimum_degree_level=minimum_degree_level if minimum_degree_level else '',\n",
    "                                          acceptable_majors=acceptable_majors if acceptable_majors else [],\n",
    "                                          skills=skills if skills else [])\n",
    "        job_extracted = jsonable_encoder(job_extracted)\n",
    "        # new_job_extracted = database.get_collection(\"jobsextracted\").insert_one(job_extracted)\n",
    "    jobs_json = transform_dataframe_to_json(jobs)\n",
    "    return jobs_json"
   ]
  },
  {
   "cell_type": "code",
   "execution_count": 6,
   "metadata": {},
   "outputs": [
    {
     "data": {
      "text/html": [
       "<div>\n",
       "<style scoped>\n",
       "    .dataframe tbody tr th:only-of-type {\n",
       "        vertical-align: middle;\n",
       "    }\n",
       "\n",
       "    .dataframe tbody tr th {\n",
       "        vertical-align: top;\n",
       "    }\n",
       "\n",
       "    .dataframe thead th {\n",
       "        text-align: right;\n",
       "    }\n",
       "</style>\n",
       "<table border=\"1\" class=\"dataframe\">\n",
       "  <thead>\n",
       "    <tr style=\"text-align: right;\">\n",
       "      <th></th>\n",
       "      <th>raw</th>\n",
       "      <th>Minimum degree level</th>\n",
       "      <th>Acceptable majors</th>\n",
       "      <th>Skills</th>\n",
       "    </tr>\n",
       "  </thead>\n",
       "  <tbody>\n",
       "    <tr>\n",
       "      <th>0</th>\n",
       "      <td>Data Scientist\\nLisbon\\n\\n\\n\\nApply on employe...</td>\n",
       "      <td>BS-LEVEL</td>\n",
       "      <td>[data analysis, information technology, comput...</td>\n",
       "      <td>[finance, business, visualization, design, mac...</td>\n",
       "    </tr>\n",
       "  </tbody>\n",
       "</table>\n",
       "</div>"
      ],
      "text/plain": [
       "                                                 raw Minimum degree level  \\\n",
       "0  Data Scientist\\nLisbon\\n\\n\\n\\nApply on employe...             BS-LEVEL   \n",
       "\n",
       "                                   Acceptable majors  \\\n",
       "0  [data analysis, information technology, comput...   \n",
       "\n",
       "                                              Skills  \n",
       "0  [finance, business, visualization, design, mac...  "
      ]
     },
     "execution_count": 6,
     "metadata": {},
     "output_type": "execute_result"
    }
   ],
   "source": [
    "res = extraction(df2)\n",
    "df2 = pd.read_json(res)\n",
    "df2"
   ]
  },
  {
   "cell_type": "code",
   "execution_count": 8,
   "metadata": {},
   "outputs": [
    {
     "data": {
      "text/plain": [
       "['finance',\n",
       " 'business',\n",
       " 'visualization',\n",
       " 'design',\n",
       " 'machine learning',\n",
       " 'modelling',\n",
       " 'data analysis',\n",
       " 'python',\n",
       " 'marketing',\n",
       " 'operations research',\n",
       " 'database',\n",
       " 'data quality',\n",
       " 'analytics',\n",
       " 'agile project management',\n",
       " 'training model',\n",
       " 'computer engineering',\n",
       " 'relational database',\n",
       " 'oracle',\n",
       " 'collaboration',\n",
       " 'communications',\n",
       " 'data science']"
      ]
     },
     "execution_count": 8,
     "metadata": {},
     "output_type": "execute_result"
    }
   ],
   "source": [
    "df2.Skills[0]"
   ]
  },
  {
   "cell_type": "code",
   "execution_count": 10,
   "metadata": {},
   "outputs": [
    {
     "data": {
      "text/plain": [
       "['accounting',\n",
       " 'big data',\n",
       " 'communications',\n",
       " 'business',\n",
       " 'analytics',\n",
       " 'finance',\n",
       " 'data science',\n",
       " 'modelling',\n",
       " 'business administration',\n",
       " 'python',\n",
       " 'logistic regression',\n",
       " 'web development',\n",
       " 'flask',\n",
       " 'html',\n",
       " 'css',\n",
       " 'javascript',\n",
       " 'testing',\n",
       " 'training model',\n",
       " 'pandas',\n",
       " 'sql',\n",
       " 'apache spark',\n",
       " 'machine learning',\n",
       " 'tensorflow',\n",
       " 'keras',\n",
       " 'c',\n",
       " 'r',\n",
       " 'tableau']"
      ]
     },
     "execution_count": 10,
     "metadata": {},
     "output_type": "execute_result"
    }
   ],
   "source": [
    "df.Skills[2]"
   ]
  }
 ],
 "metadata": {
  "kernelspec": {
   "display_name": "workproject",
   "language": "python",
   "name": "python3"
  },
  "language_info": {
   "codemirror_mode": {
    "name": "ipython",
    "version": 3
   },
   "file_extension": ".py",
   "mimetype": "text/x-python",
   "name": "python",
   "nbconvert_exporter": "python",
   "pygments_lexer": "ipython3",
   "version": "3.11.9"
  }
 },
 "nbformat": 4,
 "nbformat_minor": 2
}
