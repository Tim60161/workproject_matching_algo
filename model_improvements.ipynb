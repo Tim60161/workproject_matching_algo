{
 "cells": [
  {
   "cell_type": "markdown",
   "id": "4f52cd73-7a47-4bf5-9419-f9d1f06a5abb",
   "metadata": {},
   "source": [
    "## Model Improvement Suggentions"
   ]
  },
  {
   "cell_type": "markdown",
   "id": "fde37613-4048-4edc-8f28-6cf0c426a109",
   "metadata": {},
   "source": [
    "**1:** Test different methods for each model pipeline steps\n",
    "\n",
    "**1.1:** Try different Model\n",
    "- Current Model: all-mpnet-base-v2\n",
    "- [Hugging Face - Model leaderboard:](https://huggingface.co/spaces/mteb/leaderboard) (Try at least 3 best ones)\n",
    "\n",
    "**1.2:** Try skill-by-skill vs. bag-of-skills\n",
    "\n",
    "**1.3:** ...\n",
    "\n",
    "**2:** Last Step: Cross-Encoder without and with special tokens (new approach)"
   ]
  },
  {
   "cell_type": "code",
   "execution_count": null,
   "id": "3eb2982b-86c1-4f7e-b158-e5ed5f354489",
   "metadata": {},
   "outputs": [],
   "source": []
  }
 ],
 "metadata": {
  "kernelspec": {
   "display_name": "workproject",
   "language": "python",
   "name": "workproject"
  },
  "language_info": {
   "codemirror_mode": {
    "name": "ipython",
    "version": 3
   },
   "file_extension": ".py",
   "mimetype": "text/x-python",
   "name": "python",
   "nbconvert_exporter": "python",
   "pygments_lexer": "ipython3",
   "version": "3.11.9"
  }
 },
 "nbformat": 4,
 "nbformat_minor": 5
}
