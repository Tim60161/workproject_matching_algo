{
 "cells": [
  {
   "cell_type": "code",
   "execution_count": 1,
   "id": "a01c62de-b032-4969-953d-d3eb60238032",
   "metadata": {},
   "outputs": [],
   "source": [
    "import os"
   ]
  },
  {
   "cell_type": "code",
   "execution_count": 3,
   "id": "3365c56d-9a33-4fbe-8218-ced8e8b06143",
   "metadata": {},
   "outputs": [],
   "source": [
    "from openai import OpenAI \n",
    "\n",
    "## Set the API key and model name\n",
    "MODEL=\"gpt-4o-mini\"\n",
    "api_key = os.getenv(\"OPENAI_KEY\")\n",
    "client = OpenAI(api_key=api_key)"
   ]
  },
  {
   "cell_type": "code",
   "execution_count": 4,
   "id": "11364b4a-0e53-45f6-aca5-a9fb6a3e60f9",
   "metadata": {},
   "outputs": [],
   "source": [
    "completion = client.chat.completions.create(\n",
    "  model=MODEL,\n",
    "  messages=[\n",
    "    {\"role\": \"user\", \"content\": \"You are a helpful recruiting assistant. We have a list of candidates we want to interview for a job and we want to tailor interview questions to their skills.\"}, # <-- This is the system message that provides context to the model\n",
    "    {\"role\": \"system\", \"content\": f\"Hello! Based on the following candidates:, could you make a list of 5 interview questions for all of them based on their total pool of skills and how it relates to the skills required of the job - here:  \"}  # <-- This is the user message for which the model will generate a response\n",
    "  ]\n",
    ")"
   ]
  },
  {
   "cell_type": "code",
   "execution_count": 5,
   "id": "8af32ab2-cf74-41ef-a254-8ef195c7c859",
   "metadata": {},
   "outputs": [
    {
     "data": {
      "text/markdown": [
       "Of course! Please provide me with the list of candidates and their respective skills, as well as the skills required for the job. This way, I can tailor the interview questions accordingly."
      ],
      "text/plain": [
       "<IPython.core.display.Markdown object>"
      ]
     },
     "metadata": {},
     "output_type": "display_data"
    }
   ],
   "source": [
    "from IPython.display import display, Markdown, Latex\n",
    "display(Markdown(completion.choices[0].message.content))"
   ]
  },
  {
   "cell_type": "code",
   "execution_count": 7,
   "id": "47468e8a-9a63-4684-a19d-33a87c13d0ac",
   "metadata": {},
   "outputs": [
    {
     "name": "stdout",
     "output_type": "stream",
     "text": [
      "LICENSE                agenda.md              \u001b[34mservices\u001b[m\u001b[m/\n",
      "LLM.ipynb              comparison.ipynb       \u001b[34msource\u001b[m\u001b[m/\n",
      "README.md              environment_mac.yml    \u001b[34muser_interface\u001b[m\u001b[m/\n",
      "\u001b[34mResources\u001b[m\u001b[m/             \u001b[34mjob_descriptions\u001b[m\u001b[m/      word_embeddings.ipynb\n",
      "Untitled.ipynb         main.py\n"
     ]
    }
   ],
   "source": [
    "ls"
   ]
  },
  {
   "cell_type": "code",
   "execution_count": 23,
   "id": "f8d3307e-a750-4cf1-a3fc-3e13564dd370",
   "metadata": {},
   "outputs": [
    {
     "data": {
      "text/html": [
       "<div>\n",
       "<style scoped>\n",
       "    .dataframe tbody tr th:only-of-type {\n",
       "        vertical-align: middle;\n",
       "    }\n",
       "\n",
       "    .dataframe tbody tr th {\n",
       "        vertical-align: top;\n",
       "    }\n",
       "\n",
       "    .dataframe thead th {\n",
       "        text-align: right;\n",
       "    }\n",
       "</style>\n",
       "<table border=\"1\" class=\"dataframe\">\n",
       "  <thead>\n",
       "    <tr style=\"text-align: right;\">\n",
       "      <th></th>\n",
       "      <th>file_name</th>\n",
       "      <th>content</th>\n",
       "    </tr>\n",
       "  </thead>\n",
       "  <tbody>\n",
       "    <tr>\n",
       "      <th>5</th>\n",
       "      <td>job4.txt</td>\n",
       "      <td>Machine Learning Engineer, Sage, London\\n\\nFul...</td>\n",
       "    </tr>\n",
       "    <tr>\n",
       "      <th>7</th>\n",
       "      <td>job1.txt</td>\n",
       "      <td>Senior Data Scientist, WTW, London\\n\\nFull job...</td>\n",
       "    </tr>\n",
       "    <tr>\n",
       "      <th>8</th>\n",
       "      <td>job0.txt</td>\n",
       "      <td>Data Scientist\\nLisbon\\n\\n\\n\\nApply on employe...</td>\n",
       "    </tr>\n",
       "    <tr>\n",
       "      <th>9</th>\n",
       "      <td>job2.txt</td>\n",
       "      <td>Junior Data Engineer\\nAt Capgemini Engineering...</td>\n",
       "    </tr>\n",
       "    <tr>\n",
       "      <th>10</th>\n",
       "      <td>job3.txt</td>\n",
       "      <td>Software Engineer II, Android, Microsoft, Lond...</td>\n",
       "    </tr>\n",
       "  </tbody>\n",
       "</table>\n",
       "</div>"
      ],
      "text/plain": [
       "   file_name                                            content\n",
       "5   job4.txt  Machine Learning Engineer, Sage, London\\n\\nFul...\n",
       "7   job1.txt  Senior Data Scientist, WTW, London\\n\\nFull job...\n",
       "8   job0.txt  Data Scientist\\nLisbon\\n\\n\\n\\nApply on employe...\n",
       "9   job2.txt  Junior Data Engineer\\nAt Capgemini Engineering...\n",
       "10  job3.txt  Software Engineer II, Android, Microsoft, Lond..."
      ]
     },
     "execution_count": 23,
     "metadata": {},
     "output_type": "execute_result"
    }
   ],
   "source": [
    "import os\n",
    "import pandas as pd\n",
    "\n",
    "folder_path = 'job_descriptions/'\n",
    "\n",
    "data = [{'file_name': f, 'content': open(os.path.join(folder_path, f)).read().strip()} for f in os.listdir(folder_path) if f.endswith('.txt')]\n",
    "\n",
    "df = pd.DataFrame(data)\n",
    "df = df[df['content'].str.strip() != '']  # Drop rows with empty or whitespace-only content\n",
    "df"
   ]
  }
 ],
 "metadata": {
  "kernelspec": {
   "display_name": "workproject",
   "language": "python",
   "name": "workproject"
  },
  "language_info": {
   "codemirror_mode": {
    "name": "ipython",
    "version": 3
   },
   "file_extension": ".py",
   "mimetype": "text/x-python",
   "name": "python",
   "nbconvert_exporter": "python",
   "pygments_lexer": "ipython3",
   "version": "3.11.9"
  }
 },
 "nbformat": 4,
 "nbformat_minor": 5
}
